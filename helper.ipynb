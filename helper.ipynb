{
 "cells": [
  {
   "cell_type": "code",
   "execution_count": 2,
   "metadata": {},
   "outputs": [
    {
     "name": "stdout",
     "output_type": "stream",
     "text": [
      "Mapping complete. Output written to data/tracks256_mapped.txt\n",
      "Total users mapped: 25001, Total items mapped: 2225190\n"
     ]
    }
   ],
   "source": [
    "import argparse\n",
    "\n",
    "def reindex_ids(input_file, output_file):\n",
    "    user_map = {}\n",
    "    item_map = {}\n",
    "    user_counter = 1\n",
    "    item_counter = 1\n",
    "\n",
    "    with open(input_file, 'r') as infile:\n",
    "        lines = infile.readlines()\n",
    "\n",
    "    mapped_data = []\n",
    "    for line in lines:\n",
    "        user_id, item_id = map(int, line.strip().split())\n",
    "        \n",
    "        # Map user ID\n",
    "        if user_id not in user_map:\n",
    "            user_map[user_id] = user_counter\n",
    "            user_counter += 1\n",
    "\n",
    "        # Map item ID\n",
    "        if item_id not in item_map:\n",
    "            item_map[item_id] = item_counter\n",
    "            item_counter += 1\n",
    "\n",
    "        # Get mapped IDs\n",
    "        mapped_user_id = user_map[user_id]\n",
    "        mapped_item_id = item_map[item_id]\n",
    "\n",
    "        mapped_data.append(f\"{mapped_user_id} {mapped_item_id}\")\n",
    "\n",
    "    # Write mapped data to the output file\n",
    "    with open(output_file, 'w') as outfile:\n",
    "        outfile.write(\"\\n\".join(mapped_data))\n",
    "\n",
    "    print(f\"Mapping complete. Output written to {output_file}\")\n",
    "    print(f\"Total users mapped: {len(user_map)}, Total items mapped: {len(item_map)}\")\n",
    "\n",
    "input_file = \"data/tracks256.txt\"\n",
    "output_file = \"data/tracks256_mapped.txt\"\n",
    "reindex_ids(input_file, output_file)\n",
    "\n"
   ]
  },
  {
   "cell_type": "code",
   "execution_count": null,
   "metadata": {},
   "outputs": [],
   "source": []
  }
 ],
 "metadata": {
  "kernelspec": {
   "display_name": "Python 3",
   "language": "python",
   "name": "python3"
  },
  "language_info": {
   "codemirror_mode": {
    "name": "ipython",
    "version": 3
   },
   "file_extension": ".py",
   "mimetype": "text/x-python",
   "name": "python",
   "nbconvert_exporter": "python",
   "pygments_lexer": "ipython3",
   "version": "3.8.10"
  }
 },
 "nbformat": 4,
 "nbformat_minor": 2
}
